{
 "cells": [
  {
   "cell_type": "code",
   "execution_count": 1,
   "metadata": {},
   "outputs": [
    {
     "ename": "ModuleNotFoundError",
     "evalue": "No module named 'magic'",
     "output_type": "error",
     "traceback": [
      "\u001b[1;31m---------------------------------------------------------------------------\u001b[0m",
      "\u001b[1;31mModuleNotFoundError\u001b[0m                       Traceback (most recent call last)",
      "\u001b[1;32m<ipython-input-1-1b7129356d80>\u001b[0m in \u001b[0;36m<module>\u001b[1;34m\u001b[0m\n\u001b[0;32m      1\u001b[0m \u001b[1;32mimport\u001b[0m \u001b[0msys\u001b[0m\u001b[1;33m\u001b[0m\u001b[1;33m\u001b[0m\u001b[0m\n\u001b[0;32m      2\u001b[0m \u001b[1;32mimport\u001b[0m \u001b[0mos\u001b[0m\u001b[1;33m\u001b[0m\u001b[1;33m\u001b[0m\u001b[0m\n\u001b[1;32m----> 3\u001b[1;33m \u001b[1;32mimport\u001b[0m \u001b[0mmagic\u001b[0m\u001b[1;33m\u001b[0m\u001b[1;33m\u001b[0m\u001b[0m\n\u001b[0m\u001b[0;32m      4\u001b[0m \u001b[1;33m\u001b[0m\u001b[0m\n\u001b[0;32m      5\u001b[0m \u001b[1;32mclass\u001b[0m \u001b[0mDataset\u001b[0m\u001b[1;33m:\u001b[0m\u001b[1;33m\u001b[0m\u001b[1;33m\u001b[0m\u001b[0m\n",
      "\u001b[1;31mModuleNotFoundError\u001b[0m: No module named 'magic'"
     ]
    }
   ],
   "source": [
    "import sys\n",
    "import os\n",
    "import magic\n",
    "\n",
    "class Dataset:\n",
    "    \"\"\"Main clasts\"\"\"\n",
    "    def __init__(self,path):\n",
    "        \"\"\"Main constructor\"\"\"\n",
    "        self.path = path\n",
    "        self.filestats = {}\n",
    "        self.names =[]\n",
    "        self.totalsize = 0\n",
    "        self.totdirs = 0\n",
    "        self.totalfiles = 0\n",
    "        self.filetype_nil_count=0\n",
    "        path_iter = os.scandir(self.path)\n",
    "        for entry in path_iter:\n",
    "            self._process_entry(entry)\n",
    "        for type in self.filestats:\n",
    "            val = self.filestats[type]\n",
    "            val['avg'] = val['tot_size'] // val['count']  \n",
    "    \n",
    "    def _process_entry(self, entry):\n",
    "        self.names.append(entry.name)\n",
    "        if entry.is_file():\n",
    "            self.totalfiles += 1\n",
    "        elif entry.is_dir():\n",
    "            self.totdirs += 1\n",
    "        self.totalsize = self.totalsize + entry.stat().st_size\n",
    "        if entry.is_file():\n",
    "            response =magic.from_file(entry.path)\n",
    "            self.filestats[response] = {\"avg\": 0, \"tot_size\": 0, \"count\": 0}\n",
    "        if entry.is_file():\n",
    "            response =magic.from_file(entry.path)\n",
    "            self.filestats[response] = {\n",
    "                \"avg\": 0, \n",
    "                \"tot_size\": self.filestats[response][\"tot_size\"] + entry.stat().st_size, \n",
    "                \"count\": self.filestats[response][\"count\"] + 1\n",
    "            }\n",
    "        # print(entry.stat().st_type)\n",
    "    \n",
    "    def __str__(self):\n",
    "        \n",
    "        return \"\"\"Dataset Path: {pst_ino=670653ath} tot size(MB): {totsize}\n",
    "            tot dirs: {totdirs} tot files: {totfiles}\n",
    "            nil_file_type count: {nilcount}\n",
    "            file stats: {stats}\"\"\".format(path = self.path, \n",
    "                                                    \n",
    "            totsize = (self.totalsize // (1024*1024)),\n",
    "            totdirs = self.totdirs,\n",
    "            totfiles = self.totalfiles,\n",
    "            nilcount = self.filetype_nil_count,\n",
    "            stats = self.filestats\n",
    "        )\n",
    "        \n",
    "\n",
    "#instantiate\n",
    "\n",
    "if __name__ == '__main__':\n",
    "    if len(sys.argv) < 2:\n",
    "        sys.exit('Usage: python self.py path')\n",
    "\n",
    "    path = sys.argv[1]\n",
    "    myObject = Dataset(path)\n",
    "    # print(\"File Names: \", myObject.names)\n",
    "    # print(\"Total Files: \",myObject.totalfiles)\n",
    "    # print(\"Total Dirs: \",myObject.totdirs)\n",
    "    # print(\"Total Size in bytes: \",myObject.totalsize)\n",
    "    # print(\"Total Size in KBs: \", myObject.totalsize / 1024)\n",
    "\n",
    "    \n",
    "    print(\"File Stats: \", myObject.filestats)\n",
    "    # print(myObject.__str__())"
   ]
  },
  {
   "cell_type": "code",
   "execution_count": 12,
   "metadata": {},
   "outputs": [
    {
     "ename": "NameError",
     "evalue": "name 'nt' is not defined",
     "output_type": "error",
     "traceback": [
      "\u001b[1;31m---------------------------------------------------------------------------\u001b[0m",
      "\u001b[1;31mNameError\u001b[0m                                 Traceback (most recent call last)",
      "\u001b[1;32m<ipython-input-12-8118f3c1246d>\u001b[0m in \u001b[0;36m<module>\u001b[1;34m\u001b[0m\n\u001b[0;32m      2\u001b[0m \u001b[0mde\u001b[0m \u001b[1;33m=\u001b[0m \u001b[0mos\u001b[0m\u001b[1;33m.\u001b[0m\u001b[0mscandir\u001b[0m\u001b[1;33m(\u001b[0m\u001b[1;34mr'\\\\172.30.10.24\\mszero$\\ms-22-104\\06_05Jan2023'\u001b[0m\u001b[1;33m)\u001b[0m\u001b[1;33m\u001b[0m\u001b[1;33m\u001b[0m\u001b[0m\n\u001b[0;32m      3\u001b[0m \u001b[0mtype\u001b[0m\u001b[1;33m(\u001b[0m\u001b[0mde\u001b[0m\u001b[1;33m)\u001b[0m\u001b[1;33m\u001b[0m\u001b[1;33m\u001b[0m\u001b[0m\n\u001b[1;32m----> 4\u001b[1;33m \u001b[0mhelp\u001b[0m\u001b[1;33m(\u001b[0m\u001b[0mnt\u001b[0m\u001b[1;33m.\u001b[0m\u001b[0mScandirIterator\u001b[0m\u001b[1;33m)\u001b[0m\u001b[1;33m\u001b[0m\u001b[1;33m\u001b[0m\u001b[0m\n\u001b[0m",
      "\u001b[1;31mNameError\u001b[0m: name 'nt' is not defined"
     ]
    }
   ],
   "source": [
    "import os\n",
    "de = os.scandir(r'\\\\172.30.10.24\\mszero$\\ms-22-104\\06_05Jan2023')\n",
    "type(de)\n",
    "help(nt.ScandirIterator)"
   ]
  }
 ],
 "metadata": {
  "kernelspec": {
   "display_name": "Python 3",
   "language": "python",
   "name": "python3"
  },
  "language_info": {
   "codemirror_mode": {
    "name": "ipython",
    "version": 3
   },
   "file_extension": ".py",
   "mimetype": "text/x-python",
   "name": "python",
   "nbconvert_exporter": "python",
   "pygments_lexer": "ipython3",
   "version": "3.8.5"
  }
 },
 "nbformat": 4,
 "nbformat_minor": 4
}
